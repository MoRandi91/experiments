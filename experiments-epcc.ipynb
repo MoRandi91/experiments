{
 "cells": [
  {
   "cell_type": "markdown",
   "metadata": {},
   "source": [
    "## Импорт библиотек"
   ]
  },
  {
   "cell_type": "code",
   "execution_count": 1,
   "metadata": {
    "collapsed": true
   },
   "outputs": [],
   "source": [
    "import time\n",
    "\n",
    "import numpy as np\n",
    "import pandas as pd\n",
    "\n",
    "from operator import mul\n",
    "from sklearn import metrics\n",
    "from collections import defaultdict\n",
    "from scipy.stats import itemfreq\n",
    "from sklearn.datasets import load_svmlight_file\n",
    "from sklearn.preprocessing import MultiLabelBinarizer\n",
    "from sklearn.linear_model import PassiveAggressiveClassifier"
   ]
  },
  {
   "cell_type": "markdown",
   "metadata": {},
   "source": [
    "## Загрузка данных"
   ]
  },
  {
   "cell_type": "code",
   "execution_count": 2,
   "metadata": {
    "collapsed": true
   },
   "outputs": [],
   "source": [
    "x_train, y_train = load_svmlight_file(\"/var/local/aostapets/lshtc/wise2014-train.libsvm\", multilabel=True)"
   ]
  },
  {
   "cell_type": "code",
   "execution_count": 3,
   "metadata": {
    "collapsed": true
   },
   "outputs": [],
   "source": [
    "x_test, y_test = load_svmlight_file(\"/var/local/aostapets/lshtc/wise2014-test.libsvm\", multilabel=True)"
   ]
  },
  {
   "cell_type": "markdown",
   "metadata": {},
   "source": [
    "# Logistic  regression"
   ]
  },
  {
   "cell_type": "markdown",
   "metadata": {},
   "source": [
    "## Получение матрицы оценок"
   ]
  },
  {
   "cell_type": "code",
   "execution_count": 5,
   "metadata": {
    "collapsed": false
   },
   "outputs": [
    {
     "name": "stdout",
     "output_type": "stream",
     "text": [
      "20\n",
      "40\n",
      "60\n",
      "80\n",
      "100\n",
      "120\n",
      "140\n",
      "160\n",
      "180\n",
      "200\n"
     ]
    },
    {
     "name": "stderr",
     "output_type": "stream",
     "text": [
      "/usr/lib/python3/dist-packages/scipy/sparse/compressed.py:739: SparseEfficiencyWarning: Changing the sparsity structure of a csc_matrix is expensive. lil_matrix is more efficient.\n",
      "  SparseEfficiencyWarning)\n"
     ]
    }
   ],
   "source": [
    "from sklearn.linear_model import LogisticRegression\n",
    "from scipy.sparse import hstack\n",
    "from scipy.sparse import csc_matrix\n",
    "\n",
    "models = []\n",
    "\n",
    "ans = csc_matrix((14857,204)) # ответы на валидационной выборке\n",
    "\n",
    "start_time = time.time()\n",
    "\n",
    "x_train = csc_matrix(x_train)\n",
    "   \n",
    "for item in range(1,204):\n",
    "    \n",
    "    model = LogisticRegression(penalty='l1', C=6.0, tol=0.001, n_jobs=2)\n",
    "\n",
    "    new_y_train = list(map(lambda x: 1 if item in x else 0,y_train))\n",
    "    if item % 20 == 0:\n",
    "        print (item)\n",
    "    \n",
    "    if not sum(new_y_train[:50000]):\n",
    "        continue\n",
    "        \n",
    "    model.fit(x_train[:50000],list(new_y_train[:50000]))    \n",
    "    \n",
    "    pred_train = model.predict_proba(x_train)[:,1]\n",
    "    ans[:,item] = np.resize(pred_train[50000:], (14857,1))\n",
    "    models.append(model)"
   ]
  },
  {
   "cell_type": "markdown",
   "metadata": {},
   "source": [
    "## Перевод оценок в ответы"
   ]
  },
  {
   "cell_type": "code",
   "execution_count": 6,
   "metadata": {
    "collapsed": false
   },
   "outputs": [
    {
     "name": "stdout",
     "output_type": "stream",
     "text": [
      "203\n",
      "203\n",
      "203\n"
     ]
    }
   ],
   "source": [
    "answer = defaultdict(str)\n",
    "for j in range(14857):\n",
    "    threshold = 0.55 * ans[j,:].max() # решающее правило\n",
    "    for item in range(1,204):\n",
    "        if ans[j,item] > threshold:\n",
    "            if not answer[j]:\n",
    "                answer[j] = str(item)\n",
    "            else:\n",
    "                answer[j] = answer[j] + \" \" + str(item)\n",
    "    if j % 5000 == 0:\n",
    "        print(item)"
   ]
  },
  {
   "cell_type": "code",
   "execution_count": 7,
   "metadata": {
    "collapsed": false
   },
   "outputs": [],
   "source": [
    "list_answer = []\n",
    "for i in range(14857):\n",
    "    list_answer.append(answer[i])"
   ]
  },
  {
   "cell_type": "markdown",
   "metadata": {},
   "source": [
    "## Вычисление качества"
   ]
  },
  {
   "cell_type": "code",
   "execution_count": 8,
   "metadata": {
    "collapsed": false
   },
   "outputs": [],
   "source": [
    "from sklearn import metrics\n",
    "from sklearn.preprocessing import MultiLabelBinarizer\n",
    "\n",
    "binarizer = MultiLabelBinarizer()\n",
    "binarizer = MultiLabelBinarizer().fit(y_train)\n",
    "y_true = binarizer.transform(y_train)\n",
    "tmp = list(map(lambda x: list(map(lambda y: float(y) if y else -1, x.split(\" \"))),list_answer))\n",
    "y_pred = binarizer.transform(list(map(lambda x: [103,200] if x == [-1] else x, tmp)))\n",
    "\n",
    "f_report = metrics.f1_score(y_true[50000:], y_pred, average = 'samples')"
   ]
  },
  {
   "cell_type": "code",
   "execution_count": 9,
   "metadata": {
    "collapsed": false
   },
   "outputs": [
    {
     "data": {
      "text/plain": [
       "0.78211413193239943"
      ]
     },
     "execution_count": 9,
     "metadata": {},
     "output_type": "execute_result"
    }
   ],
   "source": [
    "f_report"
   ]
  },
  {
   "cell_type": "code",
   "execution_count": 10,
   "metadata": {
    "collapsed": false
   },
   "outputs": [
    {
     "data": {
      "text/plain": [
       "0.81416343746895004"
      ]
     },
     "execution_count": 10,
     "metadata": {},
     "output_type": "execute_result"
    }
   ],
   "source": [
    "f_report = metrics.precision_score(y_true[50000:], y_pred, average = 'samples')\n",
    "f_report"
   ]
  },
  {
   "cell_type": "code",
   "execution_count": 11,
   "metadata": {
    "collapsed": false
   },
   "outputs": [
    {
     "data": {
      "text/plain": [
       "0.79905258170217441"
      ]
     },
     "execution_count": 11,
     "metadata": {},
     "output_type": "execute_result"
    }
   ],
   "source": [
    "f_report = metrics.recall_score(y_true[50000:], y_pred, average = 'samples')\n",
    "f_report"
   ]
  },
  {
   "cell_type": "markdown",
   "metadata": {},
   "source": [
    "# Ensembled Probabilistic Classifier Chain"
   ]
  },
  {
   "cell_type": "markdown",
   "metadata": {},
   "source": [
    "## Первый алгоритм (Probabilistic Classifier Chain, PCC)"
   ]
  },
  {
   "cell_type": "code",
   "execution_count": 14,
   "metadata": {
    "collapsed": false
   },
   "outputs": [
    {
     "name": "stdout",
     "output_type": "stream",
     "text": [
      "20\n",
      "40\n",
      "60\n",
      "80\n",
      "100\n",
      "120\n",
      "140\n",
      "160\n",
      "180\n",
      "200\n"
     ]
    },
    {
     "name": "stderr",
     "output_type": "stream",
     "text": [
      "/usr/lib/python3/dist-packages/scipy/sparse/compressed.py:739: SparseEfficiencyWarning: Changing the sparsity structure of a csc_matrix is expensive. lil_matrix is more efficient.\n",
      "  SparseEfficiencyWarning)\n"
     ]
    }
   ],
   "source": [
    "from sklearn.linear_model import LogisticRegression\n",
    "from scipy.sparse import hstack\n",
    "from scipy.sparse import csc_matrix\n",
    "\n",
    "models = []\n",
    "\n",
    "ans_cascade = csc_matrix((14857,204)) # ответы на валидационной выборке\n",
    "\n",
    "start_time = time.time()\n",
    "\n",
    "x_train_cascade = csc_matrix(x_train)\n",
    "   \n",
    "for item in range(1,204):\n",
    "    \n",
    "    model = LogisticRegression(penalty='l1', C=6.0, tol=0.001, n_jobs=2) # тот же самый распознающий оператор\n",
    "\n",
    "    new_y_train = list(map(lambda x: 1 if item in x else 0,y_train))\n",
    "    if item % 20 == 0:\n",
    "        print (item)\n",
    "    \n",
    "    if not sum(new_y_train[:50000]):\n",
    "        continue\n",
    "        \n",
    "    model.fit(x_train_cascade[:50000],list(new_y_train[:50000]))    \n",
    "    \n",
    "    pred_train = model.predict_proba(x_train_cascade)[:,1]\n",
    "    ans_cascade[:,item] = np.resize(pred_train[50000:], (14857,1))\n",
    "    x_train_cascade = hstack([x_train_cascade, np.resize(pred_train,(64857,1))], format=\"csc\") # расширяем матрицу признаков \n",
    "                                                                                               # вероятностями уже просмотренных классов\n",
    "    models.append(model)"
   ]
  },
  {
   "cell_type": "markdown",
   "metadata": {},
   "source": [
    "## Второй алгоритм"
   ]
  },
  {
   "cell_type": "code",
   "execution_count": 15,
   "metadata": {
    "collapsed": false
   },
   "outputs": [
    {
     "name": "stdout",
     "output_type": "stream",
     "text": [
      "200\n",
      "180\n",
      "160\n",
      "140\n",
      "120\n",
      "100\n",
      "80\n",
      "60\n",
      "40\n",
      "20\n"
     ]
    },
    {
     "name": "stderr",
     "output_type": "stream",
     "text": [
      "/usr/lib/python3/dist-packages/scipy/sparse/compressed.py:739: SparseEfficiencyWarning: Changing the sparsity structure of a csc_matrix is expensive. lil_matrix is more efficient.\n",
      "  SparseEfficiencyWarning)\n"
     ]
    }
   ],
   "source": [
    "from sklearn.linear_model import LogisticRegression\n",
    "from scipy.sparse import hstack\n",
    "from scipy.sparse import csc_matrix\n",
    "\n",
    "models = []\n",
    "\n",
    "ans_cascade2 = csc_matrix((14857,204)) # ответы на валидационной выборке\n",
    "\n",
    "start_time = time.time()\n",
    "\n",
    "x_train_cascade = csc_matrix(x_train)\n",
    "   \n",
    "for item in range(203,0,-1):\n",
    "    \n",
    "    model = LogisticRegression(penalty='l1', C=6.0, tol=0.001, n_jobs=2) # тот же самый распознающий оператор\n",
    "\n",
    "    new_y_train = list(map(lambda x: 1 if item in x else 0,y_train))\n",
    "    if item % 20 == 0:\n",
    "        print (item)\n",
    "    \n",
    "    if not sum(new_y_train[:50000]):\n",
    "        continue\n",
    "        \n",
    "    model.fit(x_train_cascade[:50000],list(new_y_train[:50000]))    \n",
    "    \n",
    "    pred_train = model.predict_proba(x_train_cascade)[:,1]\n",
    "    ans_cascade2[:,item] = np.resize(pred_train[50000:], (14857,1))\n",
    "    x_train_cascade = hstack([x_train_cascade, np.resize(pred_train,(64857,1))], format=\"csc\") # расширяем матрицу признаков \n",
    "                                                                                               # вероятностями уже просмотренных классов\n",
    "    models.append(model)"
   ]
  },
  {
   "cell_type": "markdown",
   "metadata": {},
   "source": [
    "## Проверяем качество работы первого алгоритма PCC"
   ]
  },
  {
   "cell_type": "code",
   "execution_count": 16,
   "metadata": {
    "collapsed": false
   },
   "outputs": [
    {
     "name": "stdout",
     "output_type": "stream",
     "text": [
      "203\n",
      "203\n",
      "203\n"
     ]
    }
   ],
   "source": [
    "answer = defaultdict(str)\n",
    "for j in range(14857):\n",
    "    threshold = 0.55 * ans_cascade[j,:].max()\n",
    "    for item in range(1,204):\n",
    "        if ans_cascade[j,item] > threshold:\n",
    "            if not answer[j]:\n",
    "                answer[j] = str(item)\n",
    "            else:\n",
    "                answer[j] = answer[j] + \" \" + str(item)\n",
    "    if j % 5000 == 0:\n",
    "        print(item)"
   ]
  },
  {
   "cell_type": "code",
   "execution_count": 17,
   "metadata": {
    "collapsed": true
   },
   "outputs": [],
   "source": [
    "list_answer = []\n",
    "for i in range(14857):\n",
    "    list_answer.append(answer[i])"
   ]
  },
  {
   "cell_type": "code",
   "execution_count": 18,
   "metadata": {
    "collapsed": false
   },
   "outputs": [
    {
     "data": {
      "text/plain": [
       "0.77625428463080748"
      ]
     },
     "execution_count": 18,
     "metadata": {},
     "output_type": "execute_result"
    }
   ],
   "source": [
    "from sklearn import metrics\n",
    "from sklearn.preprocessing import MultiLabelBinarizer\n",
    "\n",
    "binarizer = MultiLabelBinarizer()\n",
    "binarizer = MultiLabelBinarizer().fit(y_train)\n",
    "y_true = binarizer.transform(y_train)\n",
    "tmp = list(map(lambda x: list(map(lambda y: float(y) if y else -1, x.split(\" \"))),list_answer))\n",
    "y_pred = binarizer.transform(list(map(lambda x: [103,200] if x == [-1] else x, tmp)))\n",
    "\n",
    "f_report = metrics.f1_score(y_true[50000:], y_pred, average = 'samples')\n",
    "f_report"
   ]
  },
  {
   "cell_type": "code",
   "execution_count": 19,
   "metadata": {
    "collapsed": false
   },
   "outputs": [
    {
     "data": {
      "text/plain": [
       "0.80886931605111589"
      ]
     },
     "execution_count": 19,
     "metadata": {},
     "output_type": "execute_result"
    }
   ],
   "source": [
    "f_report = metrics.precision_score(y_true[50000:], y_pred, average = 'samples')\n",
    "f_report"
   ]
  },
  {
   "cell_type": "code",
   "execution_count": 20,
   "metadata": {
    "collapsed": false
   },
   "outputs": [
    {
     "data": {
      "text/plain": [
       "0.79244143373173459"
      ]
     },
     "execution_count": 20,
     "metadata": {},
     "output_type": "execute_result"
    }
   ],
   "source": [
    "f_report = metrics.recall_score(y_true[50000:], y_pred, average = 'samples')\n",
    "f_report"
   ]
  },
  {
   "cell_type": "markdown",
   "metadata": {},
   "source": [
    "## Объединяем алгоритмы"
   ]
  },
  {
   "cell_type": "code",
   "execution_count": 37,
   "metadata": {
    "collapsed": false
   },
   "outputs": [],
   "source": [
    "from sklearn.externals.joblib import Parallel, delayed  \n",
    "import multiprocessing\n",
    "\n",
    "def process(ans_lin_comb, thresh):      \n",
    "    answer = defaultdict(str)\n",
    "    for j in range(14857):\n",
    "        threshold = thresh * ans_lin_comb[j,:].max()\n",
    "        for item in range(1,204):\n",
    "            if ans_lin_comb[j,item] > threshold:\n",
    "                if not answer[j]:\n",
    "                    answer[j] = str(item)\n",
    "                else:\n",
    "                    answer[j] = answer[j] + \" \" + str(item)\n",
    "        \n",
    "    list_answer = []\n",
    "    for i in range(14857):\n",
    "        list_answer.append(answer[i])\n",
    "\n",
    "    binarizer = MultiLabelBinarizer()\n",
    "    binarizer = MultiLabelBinarizer().fit(y_train)\n",
    "    y_true = binarizer.transform(y_train)\n",
    "    tmp = list(map(lambda x: list(map(lambda y: float(y) if y else -1, x.split(\" \"))),list_answer))\n",
    "    y_pred = binarizer.transform(list(map(lambda x: [103,200] if x == [-1] else x, tmp)))\n",
    "\n",
    "    f_report = metrics.f1_score(y_true[50000:], y_pred, average = 'samples')\n",
    "    return f_report\n",
    "                \n",
    "ans_lin_comb = 0.5*(ans_cascade + ans_cascade2)\n",
    "num_cores = 11\n",
    "answers = Parallel(n_jobs=num_cores)(delayed(process)(ans_lin_comb, thresh / 20) for thresh in range(5,16))"
   ]
  },
  {
   "cell_type": "markdown",
   "metadata": {},
   "source": [
    "## Качество для различных порогов в решающем правиле: $a_j = 1 \\Leftrightarrow g_j > p \\cdot max(g_1, \\ldots, g_l)$"
   ]
  },
  {
   "cell_type": "code",
   "execution_count": 43,
   "metadata": {
    "collapsed": false
   },
   "outputs": [
    {
     "data": {
      "text/plain": [
       "[(0.25, 0.77384467670864643),\n",
       " (0.3, 0.77858134794090905),\n",
       " (0.35, 0.78127088559881186),\n",
       " (0.4, 0.7824279532363263),\n",
       " (0.45, 0.78320921261622611),\n",
       " (0.5, 0.78304714700016576),\n",
       " (0.55, 0.78249180351556347),\n",
       " (0.6, 0.78169763384476987),\n",
       " (0.65, 0.78082893862324443),\n",
       " (0.7, 0.77829515357616585),\n",
       " (0.75, 0.77596243883852423)]"
      ]
     },
     "execution_count": 43,
     "metadata": {},
     "output_type": "execute_result"
    }
   ],
   "source": [
    "list(zip(map(lambda x: x/20, range(5,16)), answers))"
   ]
  },
  {
   "cell_type": "markdown",
   "metadata": {},
   "source": [
    "# Submission"
   ]
  },
  {
   "cell_type": "code",
   "execution_count": 46,
   "metadata": {
    "collapsed": false
   },
   "outputs": [
    {
     "name": "stdout",
     "output_type": "stream",
     "text": [
      "20\n",
      "40\n",
      "60\n",
      "80\n",
      "100\n",
      "120\n",
      "140\n",
      "160\n",
      "180\n",
      "200\n"
     ]
    },
    {
     "name": "stderr",
     "output_type": "stream",
     "text": [
      "/usr/lib/python3/dist-packages/scipy/sparse/compressed.py:739: SparseEfficiencyWarning: Changing the sparsity structure of a csc_matrix is expensive. lil_matrix is more efficient.\n",
      "  SparseEfficiencyWarning)\n"
     ]
    }
   ],
   "source": [
    "from sklearn.linear_model import LogisticRegression\n",
    "from scipy.sparse import hstack\n",
    "from scipy.sparse import csc_matrix\n",
    "\n",
    "models = []\n",
    "\n",
    "ans_cascade = csc_matrix((34923,204))\n",
    "\n",
    "start_time = time.time()\n",
    "\n",
    "x_train_cascade = csc_matrix(x_train)\n",
    "x_test_cascade = csc_matrix(x_test)\n",
    "   \n",
    "for item in range(1,204):\n",
    "    \n",
    "    model = LogisticRegression(penalty='l1', C=6.0, tol=0.001, n_jobs=2)\n",
    "\n",
    "    new_y_train = list(map(lambda x: 1 if item in x else 0,y_train))\n",
    "    if item % 20 == 0:\n",
    "        print (item)\n",
    "    \n",
    "    if not sum(new_y_train):\n",
    "        continue\n",
    "        \n",
    "    model.fit(x_train_cascade,list(new_y_train))    \n",
    "    \n",
    "    pred_train = model.predict_proba(x_train_cascade)[:,1]\n",
    "    pred_test = model.predict_proba(x_test_cascade)[:,1]\n",
    "    ans_cascade[:,item] = np.resize(pred_test, (34923,1))\n",
    "    x_train_cascade = hstack([x_train_cascade, np.resize(pred_train,(64857,1))], format=\"csc\")\n",
    "    x_test_cascade = hstack([x_test_cascade, np.resize(pred_test,(34923,1))], format=\"csc\")\n",
    "    models.append(model)"
   ]
  },
  {
   "cell_type": "code",
   "execution_count": 47,
   "metadata": {
    "collapsed": false
   },
   "outputs": [
    {
     "name": "stdout",
     "output_type": "stream",
     "text": [
      "200\n",
      "180\n",
      "160\n",
      "140\n",
      "120\n",
      "100\n",
      "80\n",
      "60\n",
      "40\n",
      "20\n"
     ]
    },
    {
     "name": "stderr",
     "output_type": "stream",
     "text": [
      "/usr/lib/python3/dist-packages/scipy/sparse/compressed.py:739: SparseEfficiencyWarning: Changing the sparsity structure of a csc_matrix is expensive. lil_matrix is more efficient.\n",
      "  SparseEfficiencyWarning)\n"
     ]
    }
   ],
   "source": [
    "from sklearn.linear_model import LogisticRegression\n",
    "from scipy.sparse import hstack\n",
    "from scipy.sparse import csc_matrix\n",
    "\n",
    "models = []\n",
    "\n",
    "ans_cascade2 = csc_matrix((34923,204))\n",
    "\n",
    "start_time = time.time()\n",
    "\n",
    "x_train_cascade = csc_matrix(x_train)\n",
    "x_test_cascade = csc_matrix(x_test)\n",
    "   \n",
    "for item in range(203,0,-1):\n",
    "    \n",
    "    model = LogisticRegression(penalty='l1', C=6.0, tol=0.001, n_jobs=2)\n",
    "\n",
    "    new_y_train = list(map(lambda x: 1 if item in x else 0,y_train))\n",
    "    if item % 20 == 0:\n",
    "        print (item)\n",
    "    \n",
    "    if not sum(new_y_train):\n",
    "        continue\n",
    "        \n",
    "    model.fit(x_train_cascade,list(new_y_train))    \n",
    "    \n",
    "    pred_train = model.predict_proba(x_train_cascade)[:,1]\n",
    "    pred_test = model.predict_proba(x_test_cascade)[:,1]\n",
    "    ans_cascade2[:,item] = np.resize(pred_test, (34923,1))\n",
    "    x_train_cascade = hstack([x_train_cascade, np.resize(pred_train,(64857,1))], format=\"csc\")\n",
    "    x_test_cascade = hstack([x_test_cascade, np.resize(pred_test,(34923,1))], format=\"csc\")\n",
    "    models.append(model)"
   ]
  },
  {
   "cell_type": "code",
   "execution_count": 48,
   "metadata": {
    "collapsed": false
   },
   "outputs": [
    {
     "name": "stdout",
     "output_type": "stream",
     "text": [
      "203\n",
      "203\n",
      "203\n",
      "203\n",
      "203\n",
      "203\n",
      "203\n"
     ]
    }
   ],
   "source": [
    "ans_lin_comb = 0.5*(ans_cascade + ans_cascade2)\n",
    "answer = defaultdict(str)\n",
    "\n",
    "for j in range(34923):\n",
    "    threshold = 0.4 * ans_lin_comb[j,:].max()\n",
    "    for item in range(1,204):\n",
    "        if ans_lin_comb[j,item] > threshold:\n",
    "            if not answer[j]:\n",
    "                answer[j] = str(item)\n",
    "            else:\n",
    "                answer[j] = answer[j] + \" \" + str(item)\n",
    "    if j % 5000 == 0:\n",
    "        print(item)"
   ]
  },
  {
   "cell_type": "code",
   "execution_count": 54,
   "metadata": {
    "collapsed": true
   },
   "outputs": [],
   "source": [
    "list_answer = []\n",
    "for i in range(34923):\n",
    "    list_answer.append(answer[i])"
   ]
  },
  {
   "cell_type": "code",
   "execution_count": 55,
   "metadata": {
    "collapsed": true
   },
   "outputs": [],
   "source": [
    "sub = pd.read_csv(\"/var/local/aostapets/lshtc/sampleSubmission.csv\")"
   ]
  },
  {
   "cell_type": "code",
   "execution_count": 56,
   "metadata": {
    "collapsed": false
   },
   "outputs": [],
   "source": [
    "sub.Labels = list(map(lambda x: x,list_answer))"
   ]
  },
  {
   "cell_type": "code",
   "execution_count": 57,
   "metadata": {
    "collapsed": true
   },
   "outputs": [],
   "source": [
    "sub.to_csv(\"wise-submission-epcc.csv\", index = False) # Public Score : 0.77510, Private Score: 0.77714"
   ]
  }
 ],
 "metadata": {
  "kernelspec": {
   "display_name": "Python 2",
   "language": "python",
   "name": "python2"
  },
  "language_info": {
   "codemirror_mode": {
    "name": "ipython",
    "version": 2
   },
   "file_extension": ".py",
   "mimetype": "text/x-python",
   "name": "python",
   "nbconvert_exporter": "python",
   "pygments_lexer": "ipython2",
   "version": "2.7.11"
  }
 },
 "nbformat": 4,
 "nbformat_minor": 0
}
